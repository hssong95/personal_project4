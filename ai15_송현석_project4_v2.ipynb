{
  "nbformat": 4,
  "nbformat_minor": 0,
  "metadata": {
    "colab": {
      "provenance": []
    },
    "kernelspec": {
      "name": "python3",
      "display_name": "Python 3"
    },
    "language_info": {
      "name": "python"
    },
    "gpuClass": "standard",
    "accelerator": "GPU"
  },
  "cells": [
    {
      "cell_type": "code",
      "execution_count": null,
      "metadata": {
        "id": "iBxLbEBKUwXf"
      },
      "outputs": [],
      "source": [
        "import pandas as pd\n",
        "import numpy as np\n",
        "import os\n",
        "import matplotlib.pyplot as plt\n",
        "\n",
        "from tensorflow.keras import Sequential\n",
        "from tensorflow.keras.layers import Dense, Conv2D, MaxPooling2D, Flatten, Dropout\n",
        "from tensorflow.keras.layers import Dense, Flatten\n",
        "from tensorflow.keras.models import Sequential\n",
        "from sklearn.model_selection import train_test_split\n",
        "import tensorflow as tf\n",
        "from sklearn.metrics import classification_report"
      ]
    },
    {
      "cell_type": "code",
      "source": [
        "from google.colab import drive\n",
        "drive.mount('/content/drive/')"
      ],
      "metadata": {
        "colab": {
          "base_uri": "https://localhost:8080/"
        },
        "id": "wqwmniWBYBvF",
        "outputId": "4300a048-fa94-4ed6-9889-7d2cd270f083"
      },
      "execution_count": null,
      "outputs": [
        {
          "output_type": "stream",
          "name": "stdout",
          "text": [
            "Mounted at /content/drive/\n"
          ]
        }
      ]
    },
    {
      "cell_type": "code",
      "source": [
        "np.random.seed(1)\n",
        "tf.random.set_seed(1)"
      ],
      "metadata": {
        "id": "tFQcdwbLY29n"
      },
      "execution_count": null,
      "outputs": []
    },
    {
      "cell_type": "code",
      "source": [
        "x_train=tf.keras.preprocessing.image_dataset_from_directory(\n",
        "    '/content/drive/MyDrive/부트캠프/data/project4_data/casting_data/casting_data/train',\n",
        "    label_mode='binary',\n",
        "    shuffle=True,\n",
        "    color_mode='grayscale'\n",
        ")"
      ],
      "metadata": {
        "colab": {
          "base_uri": "https://localhost:8080/"
        },
        "id": "2dpvXsDUZX0a",
        "outputId": "69a380be-a724-47f4-9f43-bfc1ee0cb4ce"
      },
      "execution_count": null,
      "outputs": [
        {
          "output_type": "stream",
          "name": "stdout",
          "text": [
            "Found 6633 files belonging to 2 classes.\n"
          ]
        }
      ]
    },
    {
      "cell_type": "code",
      "source": [
        "x_test=tf.keras.preprocessing.image_dataset_from_directory(\n",
        "    '/content/drive/MyDrive/부트캠프/data/project4_data/casting_data/casting_data/test',\n",
        "    label_mode='binary',\n",
        "    shuffle=True,\n",
        "    color_mode='grayscale'\n",
        ")"
      ],
      "metadata": {
        "colab": {
          "base_uri": "https://localhost:8080/"
        },
        "id": "HRUb11fja3qr",
        "outputId": "55d07fd5-2c76-4d8c-f39f-b55ecdf6ee5c"
      },
      "execution_count": null,
      "outputs": [
        {
          "output_type": "stream",
          "name": "stdout",
          "text": [
            "Found 715 files belonging to 2 classes.\n"
          ]
        }
      ]
    },
    {
      "cell_type": "code",
      "source": [
        "x_train.class_names"
      ],
      "metadata": {
        "colab": {
          "base_uri": "https://localhost:8080/"
        },
        "id": "qeRpZH0gopL8",
        "outputId": "4d5420f8-5496-4531-d3fb-8b6948fa1317"
      },
      "execution_count": null,
      "outputs": [
        {
          "output_type": "execute_result",
          "data": {
            "text/plain": [
              "['def_front', 'ok_front']"
            ]
          },
          "metadata": {},
          "execution_count": 6
        }
      ]
    },
    {
      "cell_type": "code",
      "source": [
        "x_train"
      ],
      "metadata": {
        "colab": {
          "base_uri": "https://localhost:8080/"
        },
        "id": "qAPEl4qssbRk",
        "outputId": "862f9cbe-c22c-43b0-bc19-e68bac6b60b0"
      },
      "execution_count": null,
      "outputs": [
        {
          "output_type": "execute_result",
          "data": {
            "text/plain": [
              "<BatchDataset element_spec=(TensorSpec(shape=(None, 256, 256, 1), dtype=tf.float32, name=None), TensorSpec(shape=(None, 1), dtype=tf.float32, name=None))>"
            ]
          },
          "metadata": {},
          "execution_count": 16
        }
      ]
    },
    {
      "cell_type": "code",
      "source": [
        "x_train= np.concatenate([x for x, y in x_train], axis=0)\n",
        "y_train= np.concatenate([y for x, y in x_train], axis=0)\n",
        "x_test= np.concatenate([x for x, y in x_test], axis=0)\n",
        "y_test= np.concatenate([y for x, y in x_test], axis=0)\n"
      ],
      "metadata": {
        "colab": {
          "base_uri": "https://localhost:8080/",
          "height": 222
        },
        "id": "5UzOJQrOjfNW",
        "outputId": "fe1a3783-8471-469d-8bde-64bd4e868acc"
      },
      "execution_count": 1,
      "outputs": [
        {
          "output_type": "error",
          "ename": "NameError",
          "evalue": "ignored",
          "traceback": [
            "\u001b[0;31m---------------------------------------------------------------------------\u001b[0m",
            "\u001b[0;31mNameError\u001b[0m                                 Traceback (most recent call last)",
            "\u001b[0;32m<ipython-input-1-67e658cd35a3>\u001b[0m in \u001b[0;36m<module>\u001b[0;34m\u001b[0m\n\u001b[0;32m----> 1\u001b[0;31m \u001b[0mx_train\u001b[0m\u001b[0;34m=\u001b[0m \u001b[0mnp\u001b[0m\u001b[0;34m.\u001b[0m\u001b[0mconcatenate\u001b[0m\u001b[0;34m(\u001b[0m\u001b[0;34m[\u001b[0m\u001b[0mx\u001b[0m \u001b[0;32mfor\u001b[0m \u001b[0mx\u001b[0m\u001b[0;34m,\u001b[0m \u001b[0my\u001b[0m \u001b[0;32min\u001b[0m \u001b[0mx_train\u001b[0m\u001b[0;34m]\u001b[0m\u001b[0;34m,\u001b[0m \u001b[0maxis\u001b[0m\u001b[0;34m=\u001b[0m\u001b[0;36m0\u001b[0m\u001b[0;34m)\u001b[0m\u001b[0;34m\u001b[0m\u001b[0;34m\u001b[0m\u001b[0m\n\u001b[0m\u001b[1;32m      2\u001b[0m \u001b[0my_train\u001b[0m\u001b[0;34m=\u001b[0m \u001b[0mnp\u001b[0m\u001b[0;34m.\u001b[0m\u001b[0mconcatenate\u001b[0m\u001b[0;34m(\u001b[0m\u001b[0;34m[\u001b[0m\u001b[0my\u001b[0m \u001b[0;32mfor\u001b[0m \u001b[0mx\u001b[0m\u001b[0;34m,\u001b[0m \u001b[0my\u001b[0m \u001b[0;32min\u001b[0m \u001b[0mx_train\u001b[0m\u001b[0;34m]\u001b[0m\u001b[0;34m,\u001b[0m \u001b[0maxis\u001b[0m\u001b[0;34m=\u001b[0m\u001b[0;36m0\u001b[0m\u001b[0;34m)\u001b[0m\u001b[0;34m\u001b[0m\u001b[0;34m\u001b[0m\u001b[0m\n\u001b[1;32m      3\u001b[0m \u001b[0mx_test\u001b[0m\u001b[0;34m=\u001b[0m \u001b[0mnp\u001b[0m\u001b[0;34m.\u001b[0m\u001b[0mconcatenate\u001b[0m\u001b[0;34m(\u001b[0m\u001b[0;34m[\u001b[0m\u001b[0mx\u001b[0m \u001b[0;32mfor\u001b[0m \u001b[0mx\u001b[0m\u001b[0;34m,\u001b[0m \u001b[0my\u001b[0m \u001b[0;32min\u001b[0m \u001b[0mx_test\u001b[0m\u001b[0;34m]\u001b[0m\u001b[0;34m,\u001b[0m \u001b[0maxis\u001b[0m\u001b[0;34m=\u001b[0m\u001b[0;36m0\u001b[0m\u001b[0;34m)\u001b[0m\u001b[0;34m\u001b[0m\u001b[0;34m\u001b[0m\u001b[0m\n\u001b[1;32m      4\u001b[0m \u001b[0my_test\u001b[0m\u001b[0;34m=\u001b[0m \u001b[0mnp\u001b[0m\u001b[0;34m.\u001b[0m\u001b[0mconcatenate\u001b[0m\u001b[0;34m(\u001b[0m\u001b[0;34m[\u001b[0m\u001b[0my\u001b[0m \u001b[0;32mfor\u001b[0m \u001b[0mx\u001b[0m\u001b[0;34m,\u001b[0m \u001b[0my\u001b[0m \u001b[0;32min\u001b[0m \u001b[0mx_test\u001b[0m\u001b[0;34m]\u001b[0m\u001b[0;34m,\u001b[0m \u001b[0maxis\u001b[0m\u001b[0;34m=\u001b[0m\u001b[0;36m0\u001b[0m\u001b[0;34m)\u001b[0m\u001b[0;34m\u001b[0m\u001b[0;34m\u001b[0m\u001b[0m\n",
            "\u001b[0;31mNameError\u001b[0m: name 'np' is not defined"
          ]
        }
      ]
    },
    {
      "cell_type": "code",
      "source": [],
      "metadata": {
        "id": "QsCpy1YqjrR-"
      },
      "execution_count": null,
      "outputs": []
    },
    {
      "cell_type": "code",
      "source": [
        "model = Sequential()\n",
        "model.add(tf.keras.Input(shape=(256,256,1)))\n",
        "model.add(Conv2D(16, (3,3), padding='same',  activation='relu'))\n",
        "model.add(Conv2D(32, (3,3), padding='same',  activation='relu'))\n",
        "model.add(MaxPooling2D(pool_size=(2,2), strides=2))\n",
        "\n",
        "model.add(Conv2D(64, (3,3), padding='same', activation='relu'))\n",
        "model.add(Conv2D(128, (3,3), padding='same',  activation='relu'))\n",
        "model.add(MaxPooling2D(pool_size=(2,2), strides=2))\n",
        "\n",
        "model.add(Conv2D(256, (3,3), padding='same',  activation='relu'))\n",
        "model.add(Conv2D(512, (3,3), padding='same',  activation='relu'))\n",
        "model.add(MaxPooling2D(pool_size=(2,2), strides=2))\n",
        "\n",
        "model.add(Conv2D(1024, (3,3), padding='same',  activation='relu'))\n",
        "model.add(Conv2D(2048, (3,3), padding='same',  activation='relu'))\n",
        "model.add(MaxPooling2D(pool_size=(2,2), strides=2))\n",
        "\n",
        "model.add(Flatten())\n",
        "model.add(Dense(512, activation='relu'))\n",
        "model.add(Dropout(rate=0.2))\n",
        "model.add(Dense(1, activation='sigmoid'))\n",
        "\n",
        "model.compile(loss='binary_crossentropy', optimizer='adam', metrics=['accuracy'])\n",
        "\n"
      ],
      "metadata": {
        "id": "JS2TSWL02EM8"
      },
      "execution_count": null,
      "outputs": []
    },
    {
      "cell_type": "code",
      "source": [
        "model.summary()"
      ],
      "metadata": {
        "colab": {
          "base_uri": "https://localhost:8080/"
        },
        "id": "7FNrz-e2gm4O",
        "outputId": "93ebff97-cd5f-4ea0-cac9-e2b63c4f2e08"
      },
      "execution_count": null,
      "outputs": [
        {
          "output_type": "stream",
          "name": "stdout",
          "text": [
            "Model: \"sequential\"\n",
            "_________________________________________________________________\n",
            " Layer (type)                Output Shape              Param #   \n",
            "=================================================================\n",
            " conv2d (Conv2D)             (None, 256, 256, 16)      160       \n",
            "                                                                 \n",
            " conv2d_1 (Conv2D)           (None, 256, 256, 32)      4640      \n",
            "                                                                 \n",
            " max_pooling2d (MaxPooling2D  (None, 128, 128, 32)     0         \n",
            " )                                                               \n",
            "                                                                 \n",
            " conv2d_2 (Conv2D)           (None, 128, 128, 64)      18496     \n",
            "                                                                 \n",
            " conv2d_3 (Conv2D)           (None, 128, 128, 128)     73856     \n",
            "                                                                 \n",
            " max_pooling2d_1 (MaxPooling  (None, 64, 64, 128)      0         \n",
            " 2D)                                                             \n",
            "                                                                 \n",
            " conv2d_4 (Conv2D)           (None, 64, 64, 256)       295168    \n",
            "                                                                 \n",
            " conv2d_5 (Conv2D)           (None, 64, 64, 512)       1180160   \n",
            "                                                                 \n",
            " max_pooling2d_2 (MaxPooling  (None, 32, 32, 512)      0         \n",
            " 2D)                                                             \n",
            "                                                                 \n",
            " conv2d_6 (Conv2D)           (None, 32, 32, 1024)      4719616   \n",
            "                                                                 \n",
            " conv2d_7 (Conv2D)           (None, 32, 32, 2048)      18876416  \n",
            "                                                                 \n",
            " max_pooling2d_3 (MaxPooling  (None, 16, 16, 2048)     0         \n",
            " 2D)                                                             \n",
            "                                                                 \n",
            " flatten (Flatten)           (None, 524288)            0         \n",
            "                                                                 \n",
            " dense (Dense)               (None, 512)               268435968 \n",
            "                                                                 \n",
            " dropout (Dropout)           (None, 512)               0         \n",
            "                                                                 \n",
            " dense_1 (Dense)             (None, 1)                 513       \n",
            "                                                                 \n",
            "=================================================================\n",
            "Total params: 293,604,993\n",
            "Trainable params: 293,604,993\n",
            "Non-trainable params: 0\n",
            "_________________________________________________________________\n"
          ]
        }
      ]
    },
    {
      "cell_type": "code",
      "source": [
        "checkpoint_filepath='project_casting.hdf5'\n",
        "early_stop = tf.keras.callbacks.EarlyStopping(monitor='val_loss', min_delta=0, patience=10, verbose=1)\n",
        "\n",
        "save_best = tf.keras.callbacks.ModelCheckpoint(\n",
        "    filepath=os.path.join('/content/drive/MyDrive/부트캠프/data/',checkpoint_filepath), verbose=1, save_best_only=True,\n",
        "                          save_weights_only=True, mode='auto', save_freq='epoch', options=None\n",
        ")"
      ],
      "metadata": {
        "id": "CpfSV9m98Q0E"
      },
      "execution_count": null,
      "outputs": []
    },
    {
      "cell_type": "code",
      "source": [
        "model.fit(x_train, batch_size=128, validation_data=x_test, epochs=100, callbacks=[early_stop,save_best])"
      ],
      "metadata": {
        "id": "amflgvxihL73",
        "colab": {
          "base_uri": "https://localhost:8080/"
        },
        "outputId": "cd44f31c-c430-4ba4-fcfd-8caabfa9c7b4"
      },
      "execution_count": null,
      "outputs": [
        {
          "output_type": "stream",
          "name": "stdout",
          "text": [
            "Epoch 1/100\n",
            "208/208 [==============================] - ETA: 0s - loss: 11.7236 - accuracy: 0.5491\n",
            "Epoch 1: val_loss improved from inf to 0.61758, saving model to /content/drive/MyDrive/부트캠프/data/project_casting.hdf5\n",
            "208/208 [==============================] - 1288s 6s/step - loss: 11.7236 - accuracy: 0.5491 - val_loss: 0.6176 - val_accuracy: 0.6657\n",
            "Epoch 2/100\n",
            "208/208 [==============================] - ETA: 0s - loss: 0.5935 - accuracy: 0.6759\n",
            "Epoch 2: val_loss improved from 0.61758 to 0.42894, saving model to /content/drive/MyDrive/부트캠프/data/project_casting.hdf5\n",
            "208/208 [==============================] - 144s 691ms/step - loss: 0.5935 - accuracy: 0.6759 - val_loss: 0.4289 - val_accuracy: 0.8056\n",
            "Epoch 3/100\n",
            "208/208 [==============================] - ETA: 0s - loss: 0.4376 - accuracy: 0.7570\n",
            "Epoch 3: val_loss did not improve from 0.42894\n",
            "208/208 [==============================] - 137s 658ms/step - loss: 0.4376 - accuracy: 0.7570 - val_loss: 0.4543 - val_accuracy: 0.7874\n",
            "Epoch 4/100\n",
            "208/208 [==============================] - ETA: 0s - loss: 0.5339 - accuracy: 0.7096\n",
            "Epoch 4: val_loss did not improve from 0.42894\n",
            "208/208 [==============================] - 135s 648ms/step - loss: 0.5339 - accuracy: 0.7096 - val_loss: 0.6925 - val_accuracy: 0.4014\n",
            "Epoch 5/100\n",
            "208/208 [==============================] - ETA: 0s - loss: 0.7383 - accuracy: 0.4396\n",
            "Epoch 5: val_loss did not improve from 0.42894\n",
            "208/208 [==============================] - 134s 641ms/step - loss: 0.7383 - accuracy: 0.4396 - val_loss: 0.6942 - val_accuracy: 0.3664\n",
            "Epoch 6/100\n",
            "208/208 [==============================] - ETA: 0s - loss: 0.6907 - accuracy: 0.5578\n",
            "Epoch 6: val_loss did not improve from 0.42894\n",
            "208/208 [==============================] - 133s 638ms/step - loss: 0.6907 - accuracy: 0.5578 - val_loss: 0.6822 - val_accuracy: 0.6336\n",
            "Epoch 7/100\n",
            "208/208 [==============================] - ETA: 0s - loss: 0.6870 - accuracy: 0.5666\n",
            "Epoch 7: val_loss did not improve from 0.42894\n",
            "208/208 [==============================] - 133s 636ms/step - loss: 0.6870 - accuracy: 0.5666 - val_loss: 0.6756 - val_accuracy: 0.6336\n",
            "Epoch 8/100\n",
            "208/208 [==============================] - ETA: 0s - loss: 0.6854 - accuracy: 0.5666\n",
            "Epoch 8: val_loss did not improve from 0.42894\n",
            "208/208 [==============================] - 133s 637ms/step - loss: 0.6854 - accuracy: 0.5666 - val_loss: 0.6718 - val_accuracy: 0.6336\n",
            "Epoch 9/100\n",
            "208/208 [==============================] - ETA: 0s - loss: 0.6847 - accuracy: 0.5666\n",
            "Epoch 9: val_loss did not improve from 0.42894\n",
            "208/208 [==============================] - 133s 638ms/step - loss: 0.6847 - accuracy: 0.5666 - val_loss: 0.6695 - val_accuracy: 0.6336\n",
            "Epoch 10/100\n",
            "208/208 [==============================] - ETA: 0s - loss: 0.6845 - accuracy: 0.5666\n",
            "Epoch 10: val_loss did not improve from 0.42894\n",
            "208/208 [==============================] - 133s 636ms/step - loss: 0.6845 - accuracy: 0.5666 - val_loss: 0.6682 - val_accuracy: 0.6336\n",
            "Epoch 11/100\n",
            "208/208 [==============================] - ETA: 0s - loss: 0.6843 - accuracy: 0.5666\n",
            "Epoch 11: val_loss did not improve from 0.42894\n",
            "208/208 [==============================] - 133s 636ms/step - loss: 0.6843 - accuracy: 0.5666 - val_loss: 0.6674 - val_accuracy: 0.6336\n",
            "Epoch 12/100\n",
            "208/208 [==============================] - ETA: 0s - loss: 0.6843 - accuracy: 0.5666\n",
            "Epoch 12: val_loss did not improve from 0.42894\n",
            "208/208 [==============================] - 133s 636ms/step - loss: 0.6843 - accuracy: 0.5666 - val_loss: 0.6668 - val_accuracy: 0.6336\n",
            "Epoch 12: early stopping\n"
          ]
        },
        {
          "output_type": "execute_result",
          "data": {
            "text/plain": [
              "<keras.callbacks.History at 0x7fc910301730>"
            ]
          },
          "metadata": {},
          "execution_count": 11
        }
      ]
    },
    {
      "cell_type": "code",
      "source": [
        "model.predict(x_test)"
      ],
      "metadata": {
        "id": "cUAG3q9ikfn-"
      },
      "execution_count": null,
      "outputs": []
    },
    {
      "cell_type": "code",
      "source": [
        "test_loss, test_Acc = model.evaluate(x_test, verbose=2)"
      ],
      "metadata": {
        "id": "PFI7yD_W92yY",
        "colab": {
          "base_uri": "https://localhost:8080/"
        },
        "outputId": "0cdccc85-d018-4c89-a4ac-218b02cc22f0"
      },
      "execution_count": null,
      "outputs": [
        {
          "output_type": "stream",
          "name": "stdout",
          "text": [
            "23/23 - 5s - loss: 0.6668 - accuracy: 0.6336 - 5s/epoch - 226ms/step\n"
          ]
        }
      ]
    },
    {
      "cell_type": "code",
      "source": [
        "model.save('/content/drive/MyDrive/부트캠프/data/saved_project_model')"
      ],
      "metadata": {
        "id": "bQy4Hn5CWumz",
        "colab": {
          "base_uri": "https://localhost:8080/"
        },
        "outputId": "698db901-94dc-4fa9-b6a6-043f3214cc28"
      },
      "execution_count": null,
      "outputs": [
        {
          "output_type": "stream",
          "name": "stderr",
          "text": [
            "WARNING:absl:Found untraced functions such as _jit_compiled_convolution_op, _jit_compiled_convolution_op, _jit_compiled_convolution_op, _jit_compiled_convolution_op, _jit_compiled_convolution_op while saving (showing 5 of 8). These functions will not be directly callable after loading.\n"
          ]
        }
      ]
    },
    {
      "cell_type": "code",
      "source": [
        "# loaded_model = model()\n",
        "# checkpoint_filepath='project_casting.hdf5'\n",
        "# latest = model.load_weights(filepath='/content/drive/MyDrive/부트캠프/data/project_casting.hdf5')\n",
        "# model.load_weight(latest)"
      ],
      "metadata": {
        "id": "ZQebZcSPEx7r"
      },
      "execution_count": null,
      "outputs": []
    },
    {
      "cell_type": "code",
      "source": [
        "# model.load_wights(os.path.join('/content/drive/MyDrive/부트캠프/data/',checkpoint_filepath))\n",
        "model.predict(x_test)"
      ],
      "metadata": {
        "id": "a1qHL0cy98Y-"
      },
      "execution_count": null,
      "outputs": []
    },
    {
      "cell_type": "code",
      "source": [
        "test_loss, test_Acc = model.evaluate(x_test, verbose=2)"
      ],
      "metadata": {
        "id": "VlRCSitI-D3G",
        "colab": {
          "base_uri": "https://localhost:8080/"
        },
        "outputId": "ba972dc1-a596-4753-9312-bfe92d844280"
      },
      "execution_count": null,
      "outputs": [
        {
          "output_type": "stream",
          "name": "stdout",
          "text": [
            "23/23 - 5s - loss: 0.6668 - accuracy: 0.6336 - 5s/epoch - 238ms/step\n"
          ]
        }
      ]
    },
    {
      "cell_type": "code",
      "source": [
        "result = model.predict(x_test)"
      ],
      "metadata": {
        "id": "ZjaVWRPW-EVB",
        "colab": {
          "base_uri": "https://localhost:8080/"
        },
        "outputId": "b7163c5c-700b-4c94-ea0c-c4cc9d567054"
      },
      "execution_count": null,
      "outputs": [
        {
          "output_type": "stream",
          "name": "stdout",
          "text": [
            "23/23 [==============================] - 6s 218ms/step\n"
          ]
        }
      ]
    },
    {
      "cell_type": "code",
      "source": [
        "loaded_model=tf.keras.models.load_model('/content/drive/MyDrive/부트캠프/data/saved_project_model')"
      ],
      "metadata": {
        "id": "OQbX_TCZ_PWR"
      },
      "execution_count": null,
      "outputs": []
    },
    {
      "cell_type": "code",
      "source": [
        "loaded_model.predict(x_test)"
      ],
      "metadata": {
        "id": "Zn4sLpMNn6ZX"
      },
      "execution_count": null,
      "outputs": []
    },
    {
      "cell_type": "code",
      "source": [
        "test_loss, test_Acc=model.evaluate(x_test, verbose=2)"
      ],
      "metadata": {
        "id": "sdFAUNRCn-1x",
        "colab": {
          "base_uri": "https://localhost:8080/"
        },
        "outputId": "10797fe3-67a1-45e7-9f0a-fdec7d092976"
      },
      "execution_count": null,
      "outputs": [
        {
          "output_type": "stream",
          "name": "stdout",
          "text": [
            "23/23 - 675s - loss: 0.6710 - accuracy: 0.6294 - 675s/epoch - 29s/step\n"
          ]
        }
      ]
    },
    {
      "cell_type": "code",
      "source": [
        "x_predict=(loaded_model.predict(x_test) > 0.5).astype(\"int32\")"
      ],
      "metadata": {
        "id": "ZhYc516Bs8EA",
        "colab": {
          "base_uri": "https://localhost:8080/"
        },
        "outputId": "3235c2aa-0b3f-4383-c29b-9c26aeb221f9"
      },
      "execution_count": null,
      "outputs": [
        {
          "output_type": "stream",
          "name": "stdout",
          "text": [
            " 3/23 [==>...........................] - ETA: 10:02"
          ]
        }
      ]
    },
    {
      "cell_type": "code",
      "source": [
        "x_test.unbatch()\n",
        "images = list(x_test.map(lambda x, y: x))\n",
        "labels = list(x_test.map(lambda x, y: y))\n"
      ],
      "metadata": {
        "id": "5vZCwU3ew9Jc"
      },
      "execution_count": null,
      "outputs": []
    },
    {
      "cell_type": "code",
      "source": [
        "images"
      ],
      "metadata": {
        "id": "dV0dFdQ5Kf3j"
      },
      "execution_count": null,
      "outputs": []
    },
    {
      "cell_type": "code",
      "source": [
        "images[0]"
      ],
      "metadata": {
        "id": "uwd0CPG6MCAN"
      },
      "execution_count": null,
      "outputs": []
    },
    {
      "cell_type": "code",
      "source": [
        "labels"
      ],
      "metadata": {
        "id": "aM8zbKfdOFXM"
      },
      "execution_count": null,
      "outputs": []
    },
    {
      "cell_type": "code",
      "source": [
        "len(labels), len(x_predict)"
      ],
      "metadata": {
        "id": "KAR5cKUQx-nn",
        "colab": {
          "base_uri": "https://localhost:8080/",
          "height": 169
        },
        "outputId": "f0f33cf8-8c70-4946-efe6-2d4e0344942b"
      },
      "execution_count": null,
      "outputs": [
        {
          "output_type": "error",
          "ename": "NameError",
          "evalue": "ignored",
          "traceback": [
            "\u001b[0;31m---------------------------------------------------------------------------\u001b[0m",
            "\u001b[0;31mNameError\u001b[0m                                 Traceback (most recent call last)",
            "\u001b[0;32m<ipython-input-8-c1df139df0cc>\u001b[0m in \u001b[0;36m<module>\u001b[0;34m\u001b[0m\n\u001b[0;32m----> 1\u001b[0;31m \u001b[0mlen\u001b[0m\u001b[0;34m(\u001b[0m\u001b[0mlabels\u001b[0m\u001b[0;34m)\u001b[0m\u001b[0;34m,\u001b[0m \u001b[0mlen\u001b[0m\u001b[0;34m(\u001b[0m\u001b[0mx_predict\u001b[0m\u001b[0;34m)\u001b[0m\u001b[0;34m\u001b[0m\u001b[0;34m\u001b[0m\u001b[0m\n\u001b[0m",
            "\u001b[0;31mNameError\u001b[0m: name 'x_predict' is not defined"
          ]
        }
      ]
    },
    {
      "cell_type": "code",
      "source": [],
      "metadata": {
        "id": "UHG2RglfUwbu"
      },
      "execution_count": null,
      "outputs": []
    },
    {
      "cell_type": "code",
      "source": [
        "from sklearn.metrics import classification_report\n",
        "\n",
        "classification_report(labels,x_predict)"
      ],
      "metadata": {
        "id": "PTMiUR2Ruewo"
      },
      "execution_count": null,
      "outputs": []
    },
    {
      "cell_type": "code",
      "source": [
        "pred_probalility = loaded_model.predict_generator(x_test)"
      ],
      "metadata": {
        "id": "IXFxRb2bxpXQ",
        "colab": {
          "base_uri": "https://localhost:8080/"
        },
        "outputId": "641dcfef-3ed3-4355-e8e5-4fdcefeef7f9"
      },
      "execution_count": null,
      "outputs": [
        {
          "output_type": "stream",
          "name": "stderr",
          "text": [
            "<ipython-input-17-dcce9665dfc3>:1: UserWarning: `Model.predict_generator` is deprecated and will be removed in a future version. Please use `Model.predict`, which supports generators.\n",
            "  pred_probalility = loaded_model.predict_generator(x_test)\n"
          ]
        }
      ]
    },
    {
      "cell_type": "code",
      "source": [
        "x_predict=pred_probalility >0.5"
      ],
      "metadata": {
        "id": "Clog4WLecjYn"
      },
      "execution_count": null,
      "outputs": []
    },
    {
      "cell_type": "code",
      "source": [
        "y_test= np.concatenate([y for x, y in x_test], axis=0)"
      ],
      "metadata": {
        "id": "ngn1VCKsgrrW"
      },
      "execution_count": null,
      "outputs": []
    },
    {
      "cell_type": "code",
      "source": [
        "y_test.shape"
      ],
      "metadata": {
        "colab": {
          "base_uri": "https://localhost:8080/"
        },
        "id": "Ql2i3C3viCbl",
        "outputId": "1cd06b02-3410-4bbc-a1c3-5552fe2e4a22"
      },
      "execution_count": null,
      "outputs": [
        {
          "output_type": "execute_result",
          "data": {
            "text/plain": [
              "(715, 1)"
            ]
          },
          "metadata": {},
          "execution_count": 29
        }
      ]
    },
    {
      "cell_type": "code",
      "source": [
        "print(classification_report(y_test, x_predict))"
      ],
      "metadata": {
        "colab": {
          "base_uri": "https://localhost:8080/"
        },
        "id": "r4SpOC0AczqC",
        "outputId": "2320832d-a577-4c4c-a85e-d36e7c10584e"
      },
      "execution_count": null,
      "outputs": [
        {
          "output_type": "stream",
          "name": "stdout",
          "text": [
            "              precision    recall  f1-score   support\n",
            "\n",
            "         0.0       0.63      1.00      0.78       453\n",
            "         1.0       0.00      0.00      0.00       262\n",
            "\n",
            "    accuracy                           0.63       715\n",
            "   macro avg       0.32      0.50      0.39       715\n",
            "weighted avg       0.40      0.63      0.49       715\n",
            "\n"
          ]
        },
        {
          "output_type": "stream",
          "name": "stderr",
          "text": [
            "/usr/local/lib/python3.8/dist-packages/sklearn/metrics/_classification.py:1318: UndefinedMetricWarning: Precision and F-score are ill-defined and being set to 0.0 in labels with no predicted samples. Use `zero_division` parameter to control this behavior.\n",
            "  _warn_prf(average, modifier, msg_start, len(result))\n",
            "/usr/local/lib/python3.8/dist-packages/sklearn/metrics/_classification.py:1318: UndefinedMetricWarning: Precision and F-score are ill-defined and being set to 0.0 in labels with no predicted samples. Use `zero_division` parameter to control this behavior.\n",
            "  _warn_prf(average, modifier, msg_start, len(result))\n",
            "/usr/local/lib/python3.8/dist-packages/sklearn/metrics/_classification.py:1318: UndefinedMetricWarning: Precision and F-score are ill-defined and being set to 0.0 in labels with no predicted samples. Use `zero_division` parameter to control this behavior.\n",
            "  _warn_prf(average, modifier, msg_start, len(result))\n"
          ]
        }
      ]
    },
    {
      "cell_type": "markdown",
      "source": [
        "2. Cutline"
      ],
      "metadata": {
        "id": "SzwdebNWOUNK"
      }
    },
    {
      "cell_type": "code",
      "source": [
        "from tensorflow.keras.preprocessing.image import ImageDataGenerator, load_img, img_to_array"
      ],
      "metadata": {
        "id": "MqKa9XitOVl8"
      },
      "execution_count": null,
      "outputs": []
    },
    {
      "cell_type": "code",
      "source": [
        "image_gen = ImageDataGenerator(rescale=1/255,\n",
        "                               )\n",
        "\n",
        "image_shape(25)"
      ],
      "metadata": {
        "id": "aTPoKzVHPwvq"
      },
      "execution_count": null,
      "outputs": []
    }
  ]
}